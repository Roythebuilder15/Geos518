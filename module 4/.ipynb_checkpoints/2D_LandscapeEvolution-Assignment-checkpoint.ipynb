{
 "cells": [
  {
   "cell_type": "markdown",
   "metadata": {},
   "source": [
    "# Module 04: Assignment for 2-Dimensional Landscape Evolution Model\n",
    "\n",
    "## Overview and Requirements\n",
    "\n",
    "In this assignment you will examine the long term behavior of the elevation field under two different assumptions about the landscape diffusivity (i.e., the variable controlling soil creep). Use the code below to conduct the following experiments:\n",
    "\n",
    "__Experiment 1:__ Using the code below conduct an experiment that leaves everything unchanged, except `tf` which you should increase to 100,000 yrs and increasing the plotting output interval (`OutputInterval`) to 20,000 years. Run the model and also create an array that is `Nt` in length to store the maximum elevation in the 2-D domain at each time step. You will need to use the `.max` function on `hnext` to obtain this inside the main `for` loop of the model.\n",
    "\n",
    "__Experiment 2:__ Using the same setup as you did for Experiment 1 above, now _decrease_ the diffusivity `D` by an order of magnitude and re-run the model, again keeping track of the maximum elevation in the domain at each modeling time step. \n",
    "\n",
    "The notebook you turn in should have the following plots:\n",
    "* The maximum elevation versus time for both experiments on the same plot\n",
    "* The 3D plot containing topographic surfaces at every 20,000 year interval for __Experiment 1__ (clearly labelled)\n",
    "* The 3D plot containing topographic surfaces at every 20,000 year interval for __Experiment 2__ (clearly labelled)\n",
    "\n",
    "Answer the following question:\n",
    "* How does changing the diffusivity change the evolution of the maximum elevation in each experiment? \n",
    "* If we were to allow Experiments 1 and 2 to run for an infinite amount of time, how would the topographic surface between the experiments? What would be the only difference between the two topographies?"
   ]
  },
  {
   "cell_type": "code",
   "execution_count": 1,
   "metadata": {
    "tags": []
   },
   "outputs": [],
   "source": [
    "import numpy as np\n",
    "import matplotlib.pyplot as plt\n",
    "\n",
    "hi = 100.0 # (m)\n",
    "D = 2.5 # (m^2/yr)\n",
    "D2 = 0.25\n",
    "\n",
    "ti = 0.0 # (yr)\n",
    "tf = 100000.0 # (yr)\n",
    "dt = 5 # (yr)\n",
    "\n",
    "# Uplift rate (m/yr)\n",
    "U = 0.005 # (m/yr)\n",
    "\n",
    "# Plotting options\n",
    "individual_plots = 0 # If 1, individual plot at every output interval, all stacked otherwise\n",
    "OutputInterval = 20000.0 # (yr)\n",
    "\n",
    "Nt = (tf - ti)/dt + 1\n",
    "\n",
    "Noutput = (tf - ti)/OutputInterval + 1\n",
    "\n",
    "xMax = yMax = 500.0\n",
    "xMin = yMin = 0.0\n",
    "Nx = Ny = 50\n",
    "\n",
    "x = np.linspace(xMin,xMax,Nx)\n",
    "y = np.linspace(yMin,yMax,Ny)\n",
    "\n",
    "dx = x[1] - x[0]\n",
    "dy = y[1] - y[0]\n",
    "\n",
    "X, Y = np.meshgrid(x,y)"
   ]
  },
  {
   "cell_type": "markdown",
   "metadata": {
    "tags": []
   },
   "source": [
    "## Compute the Stability Variable "
   ]
  },
  {
   "cell_type": "code",
   "execution_count": 2,
   "metadata": {
    "collapsed": false,
    "jupyter": {
     "outputs_hidden": false
    }
   },
   "outputs": [
    {
     "name": "stdout",
     "output_type": "stream",
     "text": [
      "alpha =  0.12005000000000002\n",
      "dt =  5\n",
      "dx =  10.204081632653061\n",
      "alpha2 =  0.12005000000000002\n",
      "dt =  5\n",
      "dx =  10.204081632653061\n"
     ]
    }
   ],
   "source": [
    "alpha = D*dt/dx**2\n",
    "alpha2 = D2*dt/dx**2\n",
    "print(\"alpha = \",alpha)\n",
    "print(\"dt = \",dt)\n",
    "print(\"dx = \",dx)\n",
    "if alpha >= 0.5:\n",
    "    raise Exception(\"Stability criteria error! Either decrease dt or increase dx!\")\n",
    "    \n",
    "print(\"alpha2 = \",alpha)\n",
    "print(\"dt = \",dt)\n",
    "print(\"dx = \",dx)\n",
    "if alpha2 >= 0.5:\n",
    "    raise Exception(\"Stability criteria error! Either decrease dt or increase dx!\")"
   ]
  },
  {
   "cell_type": "markdown",
   "metadata": {},
   "source": [
    "## Setup the Solver Matrix"
   ]
  },
  {
   "cell_type": "code",
   "execution_count": 3,
   "metadata": {
    "collapsed": false,
    "jupyter": {
     "outputs_hidden": false
    }
   },
   "outputs": [],
   "source": [
    "N = Nx*Ny\n",
    "\n",
    "ind = np.linspace(0,N-1,N)\n",
    "Ind = np.linspace(0,N-1,N).reshape((Ny,Nx))\n",
    "\n",
    "Delta2 = np.matrix(np.diagflat(-4.0*np.ones((int(N),1)),k=0) + np.diagflat(np.ones((int(N-1),1)),k=1) \\\n",
    "    + np.diagflat(np.ones((int(N-1),1)),k=-1) + np.diagflat(np.ones((int(N-Nx),1)),k=int(Nx)) \\\n",
    "    + np.diagflat(np.ones((int(N-Ny),1)),k=-(int(Ny))))\n"
   ]
  },
  {
   "cell_type": "markdown",
   "metadata": {},
   "source": [
    "## Setup the Boundary Conditions\n",
    "\n",
    "In this problem, the boundary conditions are a little more complex. We will assume that the elevation at the corder of our square domain remain fixed throughout the simulation. But the rest of the area along the edges of the domain can evolve. \n",
    "\n",
    "What we need to do to allow this is actually first solve the 1-D problem once (using the same $\\Delta x$, $D$, $\\Delta t$, and simulation duration) on the edges of the domain with fixed edges, and then use that solution at every time step along ___all four___ edges of the domain. "
   ]
  },
  {
   "cell_type": "code",
   "execution_count": 4,
   "metadata": {
    "collapsed": false,
    "jupyter": {
     "outputs_hidden": false
    }
   },
   "outputs": [],
   "source": [
    "NBound = np.array(Ind[0,:])\n",
    "SBound = np.array(Ind[-1,:])\n",
    "WBound = np.array(Ind[:,0])\n",
    "EBound = np.array(Ind[:,-1])\n",
    "\n",
    "# Now compute the boundary conditions on the sides of the domain as the temporal evolution of a !D\n",
    "# profile in response to a lowering of head on 1-side of the domain\n",
    "\n",
    "Delta2_1D = np.matrix(np.diagflat(-2.0*np.ones((int(Nx),1)),k=0) + np.diagflat(np.ones((int(Nx-1),1)),k=1) \\\n",
    "    + np.diagflat(np.ones((int(Nx-1),1)),k=-1))\n",
    "\n",
    "h0_1D = hi*np.ones(shape=(int(Nx),1))\n",
    "\n",
    "H_1D = np.matrix(np.zeros(shape=(int(Nx),int(Nt))))\n",
    "\n",
    "H_1D[:,0] = np.matrix(h0_1D)\n",
    "\n",
    "for i in range(1,int(Nt)):\n",
    "    hinit_1D = H_1D[:,i-1] \n",
    "    hnext_1D = hinit_1D + alpha*Delta2_1D*hinit_1D + U*dt\n",
    "    hnext_1D[0] = hi\n",
    "    hnext_1D[-1] = hi\n",
    "    H_1D[:,i] = hnext_1D[:,0]"
   ]
  },
  {
   "cell_type": "code",
   "execution_count": 5,
   "metadata": {},
   "outputs": [],
   "source": [
    "Delta2_1D2 = np.matrix(np.diagflat(-2.0*np.ones((int(Nx),1)),k=0) + np.diagflat(np.ones((int(Nx-1),1)),k=1) \\\n",
    "    + np.diagflat(np.ones((int(Nx-1),1)),k=-1))\n",
    "\n",
    "h0_1D2 = hi*np.ones(shape=(int(Nx),1))\n",
    "\n",
    "H_1D2 = np.matrix(np.zeros(shape=(int(Nx),int(Nt))))\n",
    "\n",
    "H_1D2[:,0] = np.matrix(h0_1D)\n",
    "\n",
    "for i in range(1,int(Nt)):  \n",
    "    hinit_1D2 = H_1D[:,i-1]   \n",
    "    hnext_1D2 = hinit_1D + alpha2*Delta2_1D*hinit_1D + U*dt\n",
    "    hnext_1D2[0] = hi\n",
    "    hnext_1D2[-1] = hi\n",
    "    H_1D2[:,i] = hnext_1D[:,0]"
   ]
  },
  {
   "cell_type": "markdown",
   "metadata": {},
   "source": [
    "## Run the Model\n",
    "\n",
    "Now we need to run the model. Here we use an explicit approach to the solution, but we pose it as a linear algebra matrix-vector multiplication (i.e., we don't have to invert the matrix $\\mathbf{A}$. We will create a 3-D plot at fixed intervals along the simulation... it's too much to visualize each timestep. You can control how often plots are created using the variable `OutputInterval`. "
   ]
  },
  {
   "cell_type": "code",
   "execution_count": 6,
   "metadata": {
    "collapsed": false,
    "jupyter": {
     "outputs_hidden": false
    }
   },
   "outputs": [],
   "source": [
    "import matplotlib as mpl\n",
    "\n",
    "h0 = hi*np.ones(shape=(int(N),1)) + 0.1*np.random.randn(N,1)\n",
    "hnext = np.matrix(h0)\n",
    "\n",
    "max_elev = np.zeros(int(Nt)) \n",
    "\n",
    "figcounter = 1\n",
    "    \n",
    "for i in range(1,int(Nt)):\n",
    "    hinit = hnext + U*dt  \n",
    "    \n",
    "    hnext = hinit + alpha*Delta2*hinit   \n",
    "\n",
    "    hnext[NBound.astype(int)] = H_1D[:,i]\n",
    "    hnext[EBound.astype(int)] = H_1D[:,i] \n",
    "    hnext[SBound.astype(int)] = H_1D[:,i]\n",
    "    hnext[WBound.astype(int)] = H_1D[:,i]\n",
    "    \n",
    "    max_elev[i] = hnext.max()\n",
    "\n",
    "    \n",
    "    if(i==1) or ((i*dt) % OutputInterval == 0):\n",
    "        H = np.reshape(hnext,(Ny,Nx))\n",
    "\n",
    "        if(individual_plots==1):\n",
    "            fig, ax = plt.subplots(subplot_kw={'projection': '3d'}, figsize=(14,10), dpi=150)\n",
    "            ax.set_title(\"Elevation $h_{i,j}$ at t = %s\"%(i*dt), fontsize=18)\n",
    "        else:\n",
    "            if(figcounter==1):\n",
    "                fig, ax = plt.subplots(subplot_kw={'projection': '3d'}, figsize=(14,10), dpi=150)\n",
    "            ax.set_title('Elevation [m]', fontsize=18)\n",
    "        ax.set_xlabel('$x$', fontsize=18)\n",
    "        ax.set_ylabel('$y$', fontsize=18)\n",
    "        ax.set_zlabel('Elevation [m]', fontsize=18)\n",
    "        ax.set_xticks(np.arange(xMin,xMax+1.0,(xMax-xMin)/5))\n",
    "        ax.set_yticks(np.arange(yMin,yMax+1.0,(yMax-yMin)/5))\n",
    "        mpl.rcParams['xtick.labelsize'] = 16\n",
    "        mpl.rcParams['ytick.labelsize'] = 16\n",
    "        ax.plot_surface(X,Y,H,cmap='YlGnBu_r',linewidth=0.2,edgecolors='k')\n",
    "        ax.set_zlim(hi, hi+U*dt*Nt)\n",
    "        ax.view_init(elev=20.0)\n",
    "        figcounter = figcounter + 1\n",
    "        \n",
    "plt.show()    "
   ]
  },
  {
   "cell_type": "code",
   "execution_count": 7,
   "metadata": {},
   "outputs": [],
   "source": [
    "import matplotlib as mpl\n",
    "\n",
    "h02 = hi*np.ones(shape=(int(N),1)) + 0.1*np.random.randn(N,1)\n",
    "hnext2 = np.matrix(h0)\n",
    "\n",
    "max_elev2 = np.zeros(int(Nt))\n",
    "\n",
    "figcounter = 1 \n",
    "    \n",
    "for i in range(1,int(Nt)):   \n",
    "    hinit2 = hnext2 + U*dt\n",
    "       \n",
    "    hnext2 = hinit2 + alpha2*Delta2*hinit2\n",
    "    \n",
    "    hnext2[NBound.astype(int)] = H_1D[:,i]\n",
    "    hnext2[EBound.astype(int)] = H_1D[:,i] \n",
    "    hnext2[SBound.astype(int)] = H_1D[:,i]\n",
    "    hnext2[WBound.astype(int)] = H_1D[:,i]\n",
    "    \n",
    "    max_elev2[i] = hnext2.max()\n",
    " \n",
    "    if(i==1) or ((i*dt) % OutputInterval == 0):\n",
    "        H2 = np.reshape(hnext2,(Ny,Nx))\n",
    "\n",
    "        if(individual_plots==1):\n",
    "            fig, ax = plt.subplots(subplot_kw={'projection': '3d'}, figsize=(14,10), dpi=150)\n",
    "            ax.set_title(\"Elevation $h_{i,j}$ at t = %s\"%(i*dt), fontsize=18)\n",
    "        else:\n",
    "            if(figcounter==1):\n",
    "                fig, ax = plt.subplots(subplot_kw={'projection': '3d'}, figsize=(14,10), dpi=150)\n",
    "            ax.set_title('Elevation [m]', fontsize=18)\n",
    "        ax.set_xlabel('$x$', fontsize=18)\n",
    "        ax.set_ylabel('$y$', fontsize=18)\n",
    "        ax.set_zlabel('Elevation [m]', fontsize=18)\n",
    "        ax.set_xticks(np.arange(xMin,xMax+1.0,(xMax-xMin)/5))\n",
    "        ax.set_yticks(np.arange(yMin,yMax+1.0,(yMax-yMin)/5))\n",
    "        mpl.rcParams['xtick.labelsize'] = 16\n",
    "        mpl.rcParams['ytick.labelsize'] = 16\n",
    "        ax.plot_surface(X,Y,H2,cmap='Purples',linewidth=0.2,edgecolors='b')\n",
    "        ax.set_zlim(hi, hi+U*dt*Nt)\n",
    "        ax.view_init(elev=20.0)\n",
    "        figcounter = figcounter + 1\n",
    "        \n",
    "plt.show()"
   ]
  },
  {
   "cell_type": "code",
   "execution_count": 8,
   "metadata": {},
   "outputs": [
    {
     "ename": "ValueError",
     "evalue": "x and y must have same first dimension, but have shapes (1,) and (20001,)",
     "output_type": "error",
     "traceback": [
      "\u001b[1;31m---------------------------------------------------------------------------\u001b[0m",
      "\u001b[1;31mValueError\u001b[0m                                Traceback (most recent call last)",
      "\u001b[1;32m<ipython-input-8-7da6f05334b6>\u001b[0m in \u001b[0;36m<module>\u001b[1;34m\u001b[0m\n\u001b[0;32m      3\u001b[0m \u001b[1;33m\u001b[0m\u001b[0m\n\u001b[0;32m      4\u001b[0m \u001b[0mplt\u001b[0m\u001b[1;33m.\u001b[0m\u001b[0msubplot\u001b[0m\u001b[1;33m(\u001b[0m\u001b[1;36m4\u001b[0m\u001b[1;33m,\u001b[0m\u001b[1;36m1\u001b[0m\u001b[1;33m,\u001b[0m\u001b[1;36m1\u001b[0m\u001b[1;33m)\u001b[0m\u001b[1;33m\u001b[0m\u001b[1;33m\u001b[0m\u001b[0m\n\u001b[1;32m----> 5\u001b[1;33m \u001b[0mplt\u001b[0m\u001b[1;33m.\u001b[0m\u001b[0mplot\u001b[0m\u001b[1;33m(\u001b[0m\u001b[0mNt\u001b[0m\u001b[1;33m,\u001b[0m\u001b[0mmax_elev\u001b[0m\u001b[1;33m,\u001b[0m \u001b[1;34m'b-'\u001b[0m\u001b[1;33m,\u001b[0m \u001b[0mlabel\u001b[0m\u001b[1;33m=\u001b[0m\u001b[1;34m'Max Elevation vs Time'\u001b[0m\u001b[1;33m)\u001b[0m\u001b[1;33m\u001b[0m\u001b[1;33m\u001b[0m\u001b[0m\n\u001b[0m\u001b[0;32m      6\u001b[0m \u001b[0mplt\u001b[0m\u001b[1;33m.\u001b[0m\u001b[0mplot\u001b[0m\u001b[1;33m(\u001b[0m\u001b[0mNt\u001b[0m\u001b[1;33m,\u001b[0m\u001b[0mmax_elev2\u001b[0m\u001b[1;33m,\u001b[0m \u001b[1;34m'r'\u001b[0m\u001b[1;33m,\u001b[0m \u001b[0mlabel\u001b[0m\u001b[1;33m=\u001b[0m\u001b[1;34m'Max Elevation2 vs Time'\u001b[0m\u001b[1;33m)\u001b[0m\u001b[1;33m\u001b[0m\u001b[1;33m\u001b[0m\u001b[0m\n\u001b[0;32m      7\u001b[0m \u001b[0mplt\u001b[0m\u001b[1;33m.\u001b[0m\u001b[0mylabel\u001b[0m\u001b[1;33m(\u001b[0m\u001b[1;34m'Max Elevation'\u001b[0m\u001b[1;33m)\u001b[0m\u001b[1;33m\u001b[0m\u001b[1;33m\u001b[0m\u001b[0m\n",
      "\u001b[1;32mC:\\ProgramData\\Anaconda3\\envs\\Geos518\\lib\\site-packages\\matplotlib\\pyplot.py\u001b[0m in \u001b[0;36mplot\u001b[1;34m(scalex, scaley, data, *args, **kwargs)\u001b[0m\n\u001b[0;32m   3017\u001b[0m \u001b[1;33m@\u001b[0m\u001b[0m_copy_docstring_and_deprecators\u001b[0m\u001b[1;33m(\u001b[0m\u001b[0mAxes\u001b[0m\u001b[1;33m.\u001b[0m\u001b[0mplot\u001b[0m\u001b[1;33m)\u001b[0m\u001b[1;33m\u001b[0m\u001b[1;33m\u001b[0m\u001b[0m\n\u001b[0;32m   3018\u001b[0m \u001b[1;32mdef\u001b[0m \u001b[0mplot\u001b[0m\u001b[1;33m(\u001b[0m\u001b[1;33m*\u001b[0m\u001b[0margs\u001b[0m\u001b[1;33m,\u001b[0m \u001b[0mscalex\u001b[0m\u001b[1;33m=\u001b[0m\u001b[1;32mTrue\u001b[0m\u001b[1;33m,\u001b[0m \u001b[0mscaley\u001b[0m\u001b[1;33m=\u001b[0m\u001b[1;32mTrue\u001b[0m\u001b[1;33m,\u001b[0m \u001b[0mdata\u001b[0m\u001b[1;33m=\u001b[0m\u001b[1;32mNone\u001b[0m\u001b[1;33m,\u001b[0m \u001b[1;33m**\u001b[0m\u001b[0mkwargs\u001b[0m\u001b[1;33m)\u001b[0m\u001b[1;33m:\u001b[0m\u001b[1;33m\u001b[0m\u001b[1;33m\u001b[0m\u001b[0m\n\u001b[1;32m-> 3019\u001b[1;33m     return gca().plot(\n\u001b[0m\u001b[0;32m   3020\u001b[0m         \u001b[1;33m*\u001b[0m\u001b[0margs\u001b[0m\u001b[1;33m,\u001b[0m \u001b[0mscalex\u001b[0m\u001b[1;33m=\u001b[0m\u001b[0mscalex\u001b[0m\u001b[1;33m,\u001b[0m \u001b[0mscaley\u001b[0m\u001b[1;33m=\u001b[0m\u001b[0mscaley\u001b[0m\u001b[1;33m,\u001b[0m\u001b[1;33m\u001b[0m\u001b[1;33m\u001b[0m\u001b[0m\n\u001b[0;32m   3021\u001b[0m         **({\"data\": data} if data is not None else {}), **kwargs)\n",
      "\u001b[1;32mC:\\ProgramData\\Anaconda3\\envs\\Geos518\\lib\\site-packages\\matplotlib\\axes\\_axes.py\u001b[0m in \u001b[0;36mplot\u001b[1;34m(self, scalex, scaley, data, *args, **kwargs)\u001b[0m\n\u001b[0;32m   1603\u001b[0m         \"\"\"\n\u001b[0;32m   1604\u001b[0m         \u001b[0mkwargs\u001b[0m \u001b[1;33m=\u001b[0m \u001b[0mcbook\u001b[0m\u001b[1;33m.\u001b[0m\u001b[0mnormalize_kwargs\u001b[0m\u001b[1;33m(\u001b[0m\u001b[0mkwargs\u001b[0m\u001b[1;33m,\u001b[0m \u001b[0mmlines\u001b[0m\u001b[1;33m.\u001b[0m\u001b[0mLine2D\u001b[0m\u001b[1;33m)\u001b[0m\u001b[1;33m\u001b[0m\u001b[1;33m\u001b[0m\u001b[0m\n\u001b[1;32m-> 1605\u001b[1;33m         \u001b[0mlines\u001b[0m \u001b[1;33m=\u001b[0m \u001b[1;33m[\u001b[0m\u001b[1;33m*\u001b[0m\u001b[0mself\u001b[0m\u001b[1;33m.\u001b[0m\u001b[0m_get_lines\u001b[0m\u001b[1;33m(\u001b[0m\u001b[1;33m*\u001b[0m\u001b[0margs\u001b[0m\u001b[1;33m,\u001b[0m \u001b[0mdata\u001b[0m\u001b[1;33m=\u001b[0m\u001b[0mdata\u001b[0m\u001b[1;33m,\u001b[0m \u001b[1;33m**\u001b[0m\u001b[0mkwargs\u001b[0m\u001b[1;33m)\u001b[0m\u001b[1;33m]\u001b[0m\u001b[1;33m\u001b[0m\u001b[1;33m\u001b[0m\u001b[0m\n\u001b[0m\u001b[0;32m   1606\u001b[0m         \u001b[1;32mfor\u001b[0m \u001b[0mline\u001b[0m \u001b[1;32min\u001b[0m \u001b[0mlines\u001b[0m\u001b[1;33m:\u001b[0m\u001b[1;33m\u001b[0m\u001b[1;33m\u001b[0m\u001b[0m\n\u001b[0;32m   1607\u001b[0m             \u001b[0mself\u001b[0m\u001b[1;33m.\u001b[0m\u001b[0madd_line\u001b[0m\u001b[1;33m(\u001b[0m\u001b[0mline\u001b[0m\u001b[1;33m)\u001b[0m\u001b[1;33m\u001b[0m\u001b[1;33m\u001b[0m\u001b[0m\n",
      "\u001b[1;32mC:\\ProgramData\\Anaconda3\\envs\\Geos518\\lib\\site-packages\\matplotlib\\axes\\_base.py\u001b[0m in \u001b[0;36m__call__\u001b[1;34m(self, data, *args, **kwargs)\u001b[0m\n\u001b[0;32m    313\u001b[0m                 \u001b[0mthis\u001b[0m \u001b[1;33m+=\u001b[0m \u001b[0margs\u001b[0m\u001b[1;33m[\u001b[0m\u001b[1;36m0\u001b[0m\u001b[1;33m]\u001b[0m\u001b[1;33m,\u001b[0m\u001b[1;33m\u001b[0m\u001b[1;33m\u001b[0m\u001b[0m\n\u001b[0;32m    314\u001b[0m                 \u001b[0margs\u001b[0m \u001b[1;33m=\u001b[0m \u001b[0margs\u001b[0m\u001b[1;33m[\u001b[0m\u001b[1;36m1\u001b[0m\u001b[1;33m:\u001b[0m\u001b[1;33m]\u001b[0m\u001b[1;33m\u001b[0m\u001b[1;33m\u001b[0m\u001b[0m\n\u001b[1;32m--> 315\u001b[1;33m             \u001b[1;32myield\u001b[0m \u001b[1;32mfrom\u001b[0m \u001b[0mself\u001b[0m\u001b[1;33m.\u001b[0m\u001b[0m_plot_args\u001b[0m\u001b[1;33m(\u001b[0m\u001b[0mthis\u001b[0m\u001b[1;33m,\u001b[0m \u001b[0mkwargs\u001b[0m\u001b[1;33m)\u001b[0m\u001b[1;33m\u001b[0m\u001b[1;33m\u001b[0m\u001b[0m\n\u001b[0m\u001b[0;32m    316\u001b[0m \u001b[1;33m\u001b[0m\u001b[0m\n\u001b[0;32m    317\u001b[0m     \u001b[1;32mdef\u001b[0m \u001b[0mget_next_color\u001b[0m\u001b[1;33m(\u001b[0m\u001b[0mself\u001b[0m\u001b[1;33m)\u001b[0m\u001b[1;33m:\u001b[0m\u001b[1;33m\u001b[0m\u001b[1;33m\u001b[0m\u001b[0m\n",
      "\u001b[1;32mC:\\ProgramData\\Anaconda3\\envs\\Geos518\\lib\\site-packages\\matplotlib\\axes\\_base.py\u001b[0m in \u001b[0;36m_plot_args\u001b[1;34m(self, tup, kwargs, return_kwargs)\u001b[0m\n\u001b[0;32m    499\u001b[0m \u001b[1;33m\u001b[0m\u001b[0m\n\u001b[0;32m    500\u001b[0m         \u001b[1;32mif\u001b[0m \u001b[0mx\u001b[0m\u001b[1;33m.\u001b[0m\u001b[0mshape\u001b[0m\u001b[1;33m[\u001b[0m\u001b[1;36m0\u001b[0m\u001b[1;33m]\u001b[0m \u001b[1;33m!=\u001b[0m \u001b[0my\u001b[0m\u001b[1;33m.\u001b[0m\u001b[0mshape\u001b[0m\u001b[1;33m[\u001b[0m\u001b[1;36m0\u001b[0m\u001b[1;33m]\u001b[0m\u001b[1;33m:\u001b[0m\u001b[1;33m\u001b[0m\u001b[1;33m\u001b[0m\u001b[0m\n\u001b[1;32m--> 501\u001b[1;33m             raise ValueError(f\"x and y must have same first dimension, but \"\n\u001b[0m\u001b[0;32m    502\u001b[0m                              f\"have shapes {x.shape} and {y.shape}\")\n\u001b[0;32m    503\u001b[0m         \u001b[1;32mif\u001b[0m \u001b[0mx\u001b[0m\u001b[1;33m.\u001b[0m\u001b[0mndim\u001b[0m \u001b[1;33m>\u001b[0m \u001b[1;36m2\u001b[0m \u001b[1;32mor\u001b[0m \u001b[0my\u001b[0m\u001b[1;33m.\u001b[0m\u001b[0mndim\u001b[0m \u001b[1;33m>\u001b[0m \u001b[1;36m2\u001b[0m\u001b[1;33m:\u001b[0m\u001b[1;33m\u001b[0m\u001b[1;33m\u001b[0m\u001b[0m\n",
      "\u001b[1;31mValueError\u001b[0m: x and y must have same first dimension, but have shapes (1,) and (20001,)"
     ]
    }
   ],
   "source": [
    "t = np.linspace(ti,tf,int(Nt))\n",
    "\n",
    "plt.figure(figsize = (11,11))\n",
    "plt.rcParams.update({'font.size': 16})\n",
    "\n",
    "plt.subplot(4,1,1)\n",
    "plt.plot(t,max_elev, 'b-', label='Exp 1')\n",
    "plt.plot(t,max_elev2, 'r', label='Exp 2')\n",
    "plt.ylabel('Max Elevation')\n",
    "plt.xlabel('Time')\n",
    "plt.legend()        \n",
    "plt.title('Max elevation vs Time')\n",
    "\n",
    "plt.show()"
   ]
  },
  {
   "cell_type": "code",
   "execution_count": null,
   "metadata": {},
   "outputs": [],
   "source": []
  },
  {
   "cell_type": "code",
   "execution_count": null,
   "metadata": {},
   "outputs": [],
   "source": []
  },
  {
   "cell_type": "markdown",
   "metadata": {},
   "source": [
    "### "
   ]
  }
 ],
 "metadata": {
  "kernelspec": {
   "display_name": "Python 3",
   "language": "python",
   "name": "python3"
  },
  "language_info": {
   "codemirror_mode": {
    "name": "ipython",
    "version": 3
   },
   "file_extension": ".py",
   "mimetype": "text/x-python",
   "name": "python",
   "nbconvert_exporter": "python",
   "pygments_lexer": "ipython3",
   "version": "3.8.11"
  }
 },
 "nbformat": 4,
 "nbformat_minor": 4
}
