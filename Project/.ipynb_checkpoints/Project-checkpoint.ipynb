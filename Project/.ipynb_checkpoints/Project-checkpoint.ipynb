{
 "cells": [
  {
   "cell_type": "markdown",
   "id": "955cad4e-42e7-4864-ba1c-19d4098f273a",
   "metadata": {},
   "source": [
    "# Project"
   ]
  },
  {
   "cell_type": "markdown",
   "id": "1f64a76e-c668-4e1b-8ab3-704b7577fcc2",
   "metadata": {},
   "source": [
    "review paper is the what else or next piece, \n",
    "pick one model that is commonly used, \n",
    "pick something that is open source\n",
    "MODFLOW??\n"
   ]
  },
  {
   "cell_type": "markdown",
   "id": "62eb6846-d336-4d16-9566-769c4e9a61d7",
   "metadata": {},
   "source": [
    "## Introduction"
   ]
  },
  {
   "cell_type": "code",
   "execution_count": null,
   "id": "57958960-629c-4802-86e8-6a12965d3d86",
   "metadata": {},
   "outputs": [],
   "source": []
  },
  {
   "cell_type": "markdown",
   "id": "089c4122-9616-4e7c-ab28-da58bc8312ea",
   "metadata": {},
   "source": [
    "## Model Description"
   ]
  },
  {
   "cell_type": "code",
   "execution_count": null,
   "id": "b2f47839-e0bf-4f40-8585-d163b57f8a99",
   "metadata": {},
   "outputs": [],
   "source": []
  },
  {
   "cell_type": "markdown",
   "id": "5f2bcec0-d7a8-4290-b901-805da866a1ff",
   "metadata": {},
   "source": [
    "## Data Needs"
   ]
  },
  {
   "cell_type": "code",
   "execution_count": null,
   "id": "0c7bb3b2-b2f0-4ae3-9146-5435249808cc",
   "metadata": {},
   "outputs": [],
   "source": []
  },
  {
   "cell_type": "markdown",
   "id": "d5b1f9b7-ab96-4115-9918-bb29121061e0",
   "metadata": {},
   "source": [
    "## Calibration "
   ]
  },
  {
   "cell_type": "code",
   "execution_count": null,
   "id": "50f4dbec-034e-422c-9d46-c8beee984412",
   "metadata": {},
   "outputs": [],
   "source": []
  },
  {
   "cell_type": "markdown",
   "id": "60ec411f-a695-4a43-a365-910fa276adfb",
   "metadata": {},
   "source": [
    "## Numerical Experiment Design"
   ]
  },
  {
   "cell_type": "code",
   "execution_count": null,
   "id": "7a7292fe-fb89-4de2-afc5-170a711a9d9d",
   "metadata": {},
   "outputs": [],
   "source": []
  },
  {
   "cell_type": "markdown",
   "id": "a9dddb21-09e1-4fb6-8a90-20baf55c0a10",
   "metadata": {},
   "source": [
    "## References "
   ]
  },
  {
   "cell_type": "code",
   "execution_count": null,
   "id": "1834dab3-7bbf-47a8-b35b-1900c9eab9e6",
   "metadata": {},
   "outputs": [],
   "source": []
  }
 ],
 "metadata": {
  "kernelspec": {
   "display_name": "Python 3",
   "language": "python",
   "name": "python3"
  },
  "language_info": {
   "codemirror_mode": {
    "name": "ipython",
    "version": 3
   },
   "file_extension": ".py",
   "mimetype": "text/x-python",
   "name": "python",
   "nbconvert_exporter": "python",
   "pygments_lexer": "ipython3",
   "version": "3.8.11"
  }
 },
 "nbformat": 4,
 "nbformat_minor": 5
}
